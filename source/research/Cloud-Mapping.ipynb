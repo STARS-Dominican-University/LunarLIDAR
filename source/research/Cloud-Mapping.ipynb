{
 "cells": [
  {
   "cell_type": "markdown",
   "id": "aead074f-39f4-4537-a110-26e851d1e9b7",
   "metadata": {},
   "source": [
    "First we import libraries required that we'll be using"
   ]
  },
  {
   "cell_type": "code",
   "execution_count": 47,
   "id": "3eddf711-1815-4632-9932-3a0a8ee0e05b",
   "metadata": {},
   "outputs": [],
   "source": [
    "import numpy as np\n",
    "import pandas as pd\n",
    "import serial as sr\n",
    "import sys"
   ]
  },
  {
   "cell_type": "markdown",
   "id": "fd1f979b-c6bf-4c8e-b803-2653f41d8f57",
   "metadata": {},
   "source": [
    "We'll also import our variable files `computer` which stores all USB ports for our respective computers"
   ]
  },
  {
   "cell_type": "code",
   "execution_count": 48,
   "id": "2ab9d91e-9169-478e-bfbd-78a3e7a1205a",
   "metadata": {},
   "outputs": [],
   "source": [
    "sys.path.append(\"../python\")"
   ]
  },
  {
   "cell_type": "code",
   "execution_count": 49,
   "id": "ad7daf90-c033-4913-8a0a-74e44f2bffeb",
   "metadata": {},
   "outputs": [],
   "source": [
    "from computers import *"
   ]
  },
  {
   "cell_type": "markdown",
   "id": "8ae6a661-3bb3-4b56-aa84-c7d5acbfcbe9",
   "metadata": {},
   "source": [
    "We want to create a data frame for which we'll store our angle data"
   ]
  },
  {
   "cell_type": "code",
   "execution_count": 50,
   "id": "76a8f48a-8213-4698-9e1e-ebdfac63d985",
   "metadata": {},
   "outputs": [],
   "source": [
    "coordinates_frame = pd.DataFrame(columns=['x', 'y', 'z', 'angle_1', 'angle_2'])"
   ]
  },
  {
   "cell_type": "markdown",
   "id": "16be766d-a1b9-46a2-83f5-a2e9a7481763",
   "metadata": {},
   "source": [
    "We define our pins to be used on the `Arduino Mega 2560`. As a reminder, our pins are defined as\n",
    "\n",
    "```c\n",
    "LIDAR_POWER_ENABLE_PIN1 9\n",
    "LIDAR_POWER_ENABLE_PIN2 10\n",
    "```"
   ]
  },
  {
   "cell_type": "code",
   "execution_count": 51,
   "id": "61651f4b-a956-4c05-a2ce-5eac0ab93633",
   "metadata": {},
   "outputs": [],
   "source": [
    "pin_1 = True # Pin 9\n",
    "pin_2 = False # Pin 10"
   ]
  },
  {
   "cell_type": "markdown",
   "id": "9922c6eb-cdfa-4320-9338-accca6a0f665",
   "metadata": {},
   "source": [
    "Our loop iterations follow the following scheme:\n",
    "\n",
    "```c\n",
    "bool alternate = false;\n",
    "\n",
    "  if(alternate){\n",
    "    disableLidar(LIDAR_POWER_ENABLE_PIN1);\n",
    "    enableLidar(LIDAR_POWER_ENABLE_PIN2);\n",
    "    alternate = false;\n",
    "  }\n",
    "  else{\n",
    "    enableLidar(LIDAR_POWER_ENABLE_PIN1);\n",
    "    disableLidar(LIDAR_POWER_ENABLE_PIN2);\n",
    "    alternate = true;\n",
    "  }\n",
    "```\n",
    "\n",
    "Meaning in our first iteration:\n",
    "```\n",
    "LIDAR_POWER_ENABLE_PIN1 enabled\n",
    "LIDAR_POWER_ENABLE_PIN2 disabled\n",
    "```\n",
    "\n",
    "and our second iteration:\n",
    "```\n",
    "LIDAR_POWER_ENABLE_PIN1 disabled\n",
    "LIDAR_POWER_ENABLE_PIN2 enabled\n",
    "```\n",
    "\n",
    "and so forth..."
   ]
  },
  {
   "cell_type": "markdown",
   "id": "b00d5493-d89c-478d-92a2-1afb048e8111",
   "metadata": {},
   "source": [
    "We now define a function `get_x_coordinate` which retrieves our clean `x` distance"
   ]
  },
  {
   "cell_type": "code",
   "execution_count": 52,
   "id": "c416b485-3959-47ae-a118-7ba983cb7289",
   "metadata": {},
   "outputs": [],
   "source": [
    "def get_x_coordinate(data: str) -> np.int64:\n",
    "    x_coordinate = re.findall(r'\\b\\d+\\b', data)\n",
    "    if x_coordinate:\n",
    "        return np.int64(x_coordinate[0])\n",
    "    else:\n",
    "        return np.int64(-1)"
   ]
  },
  {
   "cell_type": "markdown",
   "id": "706ed896-b36f-4fde-94b5-aecfd50afaee",
   "metadata": {},
   "source": [
    "Deciphering the funciton, the function `get_x_coordinate` functions as:\n",
    "1. Find all values matching the regex expression. `\\b` find the beginning of a word character. `\\d` finds the beginning of a digit character and matches digits _0-9_. \\b is another word boundary anchor, ensuring digits are not part of a longer word.\n",
    "2. If a match is found, x_coordinate will return the match in a list. We only expect to find one element, thus we will return the `0`th index.\n",
    "3. If not found, we ensure this by returning -1"
   ]
  },
  {
   "cell_type": "markdown",
   "id": "7fc08c4e-9138-4920-85b8-e5141829c011",
   "metadata": {},
   "source": [
    "We define another function to process our coordinate data"
   ]
  },
  {
   "cell_type": "code",
   "execution_count": 53,
   "id": "72c8ba5d-f1c3-40fe-8546-847cc49e20ac",
   "metadata": {},
   "outputs": [],
   "source": [
    "def save_coordinate(x: int, y: int, z: int) -> np.array:\n",
    "    # Perform math to get accurate coordinates\n",
    "    return np.around(np.array([x, y, z]), 3)"
   ]
  },
  {
   "cell_type": "markdown",
   "id": "0a8ad682-95c8-4a49-b001-ca8d901cf5e3",
   "metadata": {},
   "source": [
    "We define a function to print coordinates"
   ]
  },
  {
   "cell_type": "code",
   "execution_count": 54,
   "id": "e3450ac7-e7fc-465d-9ef7-c76312983ae2",
   "metadata": {},
   "outputs": [],
   "source": [
    "def print_coordinate(cords: np.array):\n",
    "    print(f'X: {cords[0]}, Y: {cords[1]}, Z: {cords[2]}')"
   ]
  },
  {
   "cell_type": "markdown",
   "id": "e312bfe9-c473-4e0f-b53b-aac9b8171491",
   "metadata": {},
   "source": [
    "We now create a serial connection"
   ]
  },
  {
   "cell_type": "code",
   "execution_count": null,
   "id": "5e4a6a59-1fa0-4497-9544-56ec7f38fbeb",
   "metadata": {
    "scrolled": true
   },
   "outputs": [],
   "source": [
    "ser = sr.Serial(port=PABLOS_COMPUTER, baudrate=9600)  # Adjust the serial port and baud rate\n",
    "print(f'Connection to port {ser} is established ...')"
   ]
  },
  {
   "cell_type": "markdown",
   "id": "eb5c7bc9-a7b7-4b7e-bc60-c63c112fa8ad",
   "metadata": {},
   "source": [
    "We now run an infinite loop until we decide to shut down the system"
   ]
  },
  {
   "cell_type": "code",
   "execution_count": null,
   "id": "02a7bdec-c26c-4604-8516-b33f5662e12a",
   "metadata": {},
   "outputs": [],
   "source": [
    "while True:\n",
    "    # Read data from the serial port\n",
    "    data = sr.Serial.readline().decode('utf-8').strip()\n",
    "    \n",
    "    # Get lidar points\n",
    "    x = get_x_coordinate(data)\n",
    "    y = 0\n",
    "    z = -1\n",
    "\n",
    "    coordinates = save_coordinate(x, y, z)\n",
    "    angle_df.loc[len(angle_df.index)] = coordinates\n",
    "    print_coordinate(coordinates)\n",
    "\n",
    "    # LIDAR logic\n",
    "    if pin_1:\n",
    "        pin_1 = False\n",
    "        pin_2 = True\n",
    "    else:\n",
    "        pin_1 = True\n",
    "        pin_2 = False"
   ]
  },
  {
   "cell_type": "markdown",
   "id": "e81a909c-c226-46ea-86ac-9539fef08502",
   "metadata": {},
   "source": [
    "We now save our coordinates into an excel file"
   ]
  },
  {
   "cell_type": "code",
   "execution_count": null,
   "id": "352825c2-f6a9-42d6-a97a-b28b42ce2000",
   "metadata": {},
   "outputs": [],
   "source": [
    "coordinates_frame.to_csv(\"../../data/coordinates.csv\")"
   ]
  },
  {
   "cell_type": "markdown",
   "id": "5cc9da92-de00-44c2-970b-df4195c25acb",
   "metadata": {},
   "source": [
    "## MOCK TEST"
   ]
  },
  {
   "cell_type": "code",
   "execution_count": 56,
   "id": "690dc4c7-e8b6-4968-a0b5-23eb21312b5a",
   "metadata": {},
   "outputs": [],
   "source": [
    "import random"
   ]
  },
  {
   "cell_type": "code",
   "execution_count": 57,
   "id": "776a727d-b10d-48de-b960-b7548fcbf9d1",
   "metadata": {},
   "outputs": [],
   "source": [
    "def get_fake_x_coordinate(data: str) -> np.int64:\n",
    "    x_coordinate = re.findall(r'\\b\\d+\\b', data)\n",
    "    if x_coordinate:\n",
    "        return np.int64(x_coordinate[0])\n",
    "    else:\n",
    "        return np.int64(-1)"
   ]
  },
  {
   "cell_type": "code",
   "execution_count": 58,
   "id": "05e15fa1-e86d-4dfe-ab46-cee7c40df19e",
   "metadata": {},
   "outputs": [],
   "source": [
    "def save_fake_coordinate(x: int, y: int, z: int) -> np.array:\n",
    "    # Perform math to get accurate coordinates\n",
    "    return np.around(np.array([x, y, z]), 3)"
   ]
  },
  {
   "cell_type": "code",
   "execution_count": 59,
   "id": "c88ee10a-b028-4878-ab1f-00a73f1b9be4",
   "metadata": {},
   "outputs": [],
   "source": [
    "def generate_fake_coordiantes(num):\n",
    "    x = np.random.uniform(0, 2000, num)\n",
    "    y = np.random.uniform(0, 2000, num)\n",
    "    z = np.random.uniform(0, 2000, num)\n",
    "    return np.array([x, y, z])"
   ]
  },
  {
   "cell_type": "code",
   "execution_count": 68,
   "id": "ef560776-5694-4322-b947-10a6efd1c2a9",
   "metadata": {},
   "outputs": [],
   "source": [
    "def generate_fake_measurements(num):\n",
    "    measurement = []\n",
    "    for _ in range(num):\n",
    "        x = np.random.randint(0, 2000)\n",
    "        measurement.append(f'{x} cm')\n",
    "    return np.array(measurement)"
   ]
  },
  {
   "cell_type": "code",
   "execution_count": 82,
   "id": "fcb3b558-6131-4567-aa35-20663be0bc6b",
   "metadata": {},
   "outputs": [],
   "source": [
    "fake_serial_data = generate_fake_measurements(10)"
   ]
  },
  {
   "cell_type": "code",
   "execution_count": 83,
   "id": "1e6ce79c-a2c3-443c-b5b3-c7906740ac89",
   "metadata": {},
   "outputs": [],
   "source": [
    "fake_coordinates = generate_fake_coordiantes(10)"
   ]
  },
  {
   "cell_type": "code",
   "execution_count": 90,
   "id": "b32fd8de-afe2-4534-b45e-c6bb50de5014",
   "metadata": {},
   "outputs": [],
   "source": [
    "x_batch, y_batch, z_batch = fake_coordinates"
   ]
  },
  {
   "cell_type": "code",
   "execution_count": 96,
   "id": "6d47d300-afab-4d5a-9e45-5b5f5f48a9db",
   "metadata": {},
   "outputs": [],
   "source": [
    "fake_df = pd.DataFrame(columns=[\"x\", \"y\", \"z\"])"
   ]
  },
  {
   "cell_type": "code",
   "execution_count": 98,
   "id": "113ffb5e-f4fb-48a4-826f-32fed1be0302",
   "metadata": {},
   "outputs": [
    {
     "name": "stdout",
     "output_type": "stream",
     "text": [
      "X: 566.8146541930665, Y: 689.7454125418736, Z: 45.67971917940827\n",
      "X: 1794.6502595244383, Y: 5.624410445841166, Z: 454.15590680390784\n",
      "X: 873.5443082629888, Y: 1354.6332025104946, Z: 284.5456792332404\n",
      "X: 1548.7155785383673, Y: 694.85701620343, Z: 1829.8478650906816\n",
      "X: 544.8396104008535, Y: 55.69524997970032, Z: 198.39910477069145\n",
      "X: 1795.135932770606, Y: 228.67828513388355, Z: 1754.8636502853155\n",
      "X: 203.44432247837508, Y: 1079.1046480231275, Z: 99.85783435182616\n",
      "X: 62.106911932354066, Y: 1833.8102224150232, Z: 1711.31393233021\n",
      "X: 64.29281919448692, Y: 1923.46078770615, Z: 288.3404994666021\n",
      "X: 11.224267504238217, Y: 993.0111215114446, Z: 1082.4264791487897\n"
     ]
    }
   ],
   "source": [
    "for x, y, z in zip(x_batch, y_batch, z_batch):\n",
    "    fake_df.loc[len(fake_df.index)] = np.around(np.array([x, y, z]), 3)\n",
    "    print_coordinate([x, y, z])"
   ]
  },
  {
   "cell_type": "code",
   "execution_count": 99,
   "id": "2c2b0d2d-5b15-41c3-bf81-312c8265b13d",
   "metadata": {},
   "outputs": [
    {
     "data": {
      "text/html": [
       "<div>\n",
       "<style scoped>\n",
       "    .dataframe tbody tr th:only-of-type {\n",
       "        vertical-align: middle;\n",
       "    }\n",
       "\n",
       "    .dataframe tbody tr th {\n",
       "        vertical-align: top;\n",
       "    }\n",
       "\n",
       "    .dataframe thead th {\n",
       "        text-align: right;\n",
       "    }\n",
       "</style>\n",
       "<table border=\"1\" class=\"dataframe\">\n",
       "  <thead>\n",
       "    <tr style=\"text-align: right;\">\n",
       "      <th></th>\n",
       "      <th>x</th>\n",
       "      <th>y</th>\n",
       "      <th>z</th>\n",
       "    </tr>\n",
       "  </thead>\n",
       "  <tbody>\n",
       "    <tr>\n",
       "      <th>0</th>\n",
       "      <td>566.815</td>\n",
       "      <td>689.745</td>\n",
       "      <td>45.680</td>\n",
       "    </tr>\n",
       "    <tr>\n",
       "      <th>1</th>\n",
       "      <td>1794.650</td>\n",
       "      <td>5.624</td>\n",
       "      <td>454.156</td>\n",
       "    </tr>\n",
       "    <tr>\n",
       "      <th>2</th>\n",
       "      <td>873.544</td>\n",
       "      <td>1354.633</td>\n",
       "      <td>284.546</td>\n",
       "    </tr>\n",
       "    <tr>\n",
       "      <th>3</th>\n",
       "      <td>1548.716</td>\n",
       "      <td>694.857</td>\n",
       "      <td>1829.848</td>\n",
       "    </tr>\n",
       "    <tr>\n",
       "      <th>4</th>\n",
       "      <td>544.840</td>\n",
       "      <td>55.695</td>\n",
       "      <td>198.399</td>\n",
       "    </tr>\n",
       "    <tr>\n",
       "      <th>5</th>\n",
       "      <td>1795.136</td>\n",
       "      <td>228.678</td>\n",
       "      <td>1754.864</td>\n",
       "    </tr>\n",
       "    <tr>\n",
       "      <th>6</th>\n",
       "      <td>203.444</td>\n",
       "      <td>1079.105</td>\n",
       "      <td>99.858</td>\n",
       "    </tr>\n",
       "    <tr>\n",
       "      <th>7</th>\n",
       "      <td>62.107</td>\n",
       "      <td>1833.810</td>\n",
       "      <td>1711.314</td>\n",
       "    </tr>\n",
       "    <tr>\n",
       "      <th>8</th>\n",
       "      <td>64.293</td>\n",
       "      <td>1923.461</td>\n",
       "      <td>288.340</td>\n",
       "    </tr>\n",
       "    <tr>\n",
       "      <th>9</th>\n",
       "      <td>11.224</td>\n",
       "      <td>993.011</td>\n",
       "      <td>1082.426</td>\n",
       "    </tr>\n",
       "  </tbody>\n",
       "</table>\n",
       "</div>"
      ],
      "text/plain": [
       "          x         y         z\n",
       "0   566.815   689.745    45.680\n",
       "1  1794.650     5.624   454.156\n",
       "2   873.544  1354.633   284.546\n",
       "3  1548.716   694.857  1829.848\n",
       "4   544.840    55.695   198.399\n",
       "5  1795.136   228.678  1754.864\n",
       "6   203.444  1079.105    99.858\n",
       "7    62.107  1833.810  1711.314\n",
       "8    64.293  1923.461   288.340\n",
       "9    11.224   993.011  1082.426"
      ]
     },
     "execution_count": 99,
     "metadata": {},
     "output_type": "execute_result"
    }
   ],
   "source": [
    "fake_df.head(10)"
   ]
  },
  {
   "cell_type": "code",
   "execution_count": null,
   "id": "cdf57e8f-f849-4c74-bad1-5015dea50316",
   "metadata": {},
   "outputs": [],
   "source": []
  }
 ],
 "metadata": {
  "kernelspec": {
   "display_name": "Python 3 (ipykernel)",
   "language": "python",
   "name": "python3"
  },
  "language_info": {
   "codemirror_mode": {
    "name": "ipython",
    "version": 3
   },
   "file_extension": ".py",
   "mimetype": "text/x-python",
   "name": "python",
   "nbconvert_exporter": "python",
   "pygments_lexer": "ipython3",
   "version": "3.12.1"
  }
 },
 "nbformat": 4,
 "nbformat_minor": 5
}
