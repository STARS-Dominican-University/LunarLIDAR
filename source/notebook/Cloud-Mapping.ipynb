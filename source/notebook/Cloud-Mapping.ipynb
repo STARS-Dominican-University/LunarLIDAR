{
 "cells": [
  {
   "cell_type": "markdown",
   "id": "aead074f-39f4-4537-a110-26e851d1e9b7",
   "metadata": {},
   "source": [
    "First we import libraries required that we'll be using"
   ]
  },
  {
   "cell_type": "code",
   "execution_count": 2,
   "id": "9733e006-db4d-4ebc-8efb-d6ebb3642a4d",
   "metadata": {
    "scrolled": true
   },
   "outputs": [
    {
     "ename": "NameError",
     "evalue": "name 'np' is not defined",
     "output_type": "error",
     "traceback": [
      "\u001b[1;31m---------------------------------------------------------------------------\u001b[0m",
      "\u001b[1;31mNameError\u001b[0m                                 Traceback (most recent call last)",
      "Cell \u001b[1;32mIn[2], line 1\u001b[0m\n\u001b[1;32m----> 1\u001b[0m \u001b[38;5;28;01mdef\u001b[39;00m \u001b[38;5;21mprint_coordinate\u001b[39m(cords: np\u001b[38;5;241m.\u001b[39marray, theta, omega):\n\u001b[0;32m      2\u001b[0m     \u001b[38;5;28mprint\u001b[39m(\u001b[38;5;124mf\u001b[39m\u001b[38;5;124m'\u001b[39m\u001b[38;5;124mX: \u001b[39m\u001b[38;5;132;01m{\u001b[39;00mcords[\u001b[38;5;241m0\u001b[39m]\u001b[38;5;132;01m}\u001b[39;00m\u001b[38;5;124m, Y: \u001b[39m\u001b[38;5;132;01m{\u001b[39;00mcords[\u001b[38;5;241m1\u001b[39m]\u001b[38;5;132;01m}\u001b[39;00m\u001b[38;5;124m, Z: \u001b[39m\u001b[38;5;132;01m{\u001b[39;00mcords[\u001b[38;5;241m2\u001b[39m]\u001b[38;5;132;01m}\u001b[39;00m\u001b[38;5;124m | Θ: \u001b[39m\u001b[38;5;132;01m{\u001b[39;00mtheta\u001b[38;5;132;01m}\u001b[39;00m\u001b[38;5;124m, ω: \u001b[39m\u001b[38;5;132;01m{\u001b[39;00momega\u001b[38;5;132;01m}\u001b[39;00m\u001b[38;5;124m'\u001b[39m)\n",
      "\u001b[1;31mNameError\u001b[0m: name 'np' is not defined"
     ]
    }
   ],
   "source": [
    "def print_coordinate(cords: np.array, theta, omega):\n",
    "    print(f'X: {cords[0]}, Y: {cords[1]}, Z: {cords[2]} | Θ: {theta}, ω: {omega}')"
   ]
  },
  {
   "cell_type": "markdown",
   "id": "f49c97f6-994f-491e-a7a7-faa15e31a66f",
   "metadata": {},
   "source": [
    "### Mathematics of point mapping"
   ]
  },
  {
   "cell_type": "code",
   "execution_count": 244,
   "id": "72c8ba5d-f1c3-40fe-8546-847cc49e20ac",
   "metadata": {},
   "outputs": [],
   "source": [
    "def save_coordinate(x: int, theta, omega) -> np.array:\n",
    "    # Perform math to get accurate coordinates\n",
    "    x_cord = np.multiply(x, np.sin(theta))\n",
    "    y_cord = np.multiply(x_cord, np.sin(omega))\n",
    "    z_cord = np.multiply(x, np.cos(theta))\n",
    "    print_coordinate([x_cord, y_cord, z_cord], theta, omega)\n",
    "    return np.around(np.array([x, y, z, theta, omega]), 3)"
   ]
  },
  {
   "cell_type": "markdown",
   "id": "e312bfe9-c473-4e0f-b53b-aac9b8171491",
   "metadata": {},
   "source": [
    "We now create a serial connection"
   ]
  },
  {
   "cell_type": "markdown",
   "id": "eb5c7bc9-a7b7-4b7e-bc60-c63c112fa8ad",
   "metadata": {},
   "source": [
    "We now run an infinite loop until we decide to shut down the system"
   ]
  },
  {
   "cell_type": "code",
   "execution_count": null,
   "id": "02a7bdec-c26c-4604-8516-b33f5662e12a",
   "metadata": {},
   "outputs": [],
   "source": [
    "while True:\n",
    "    # Read data from the serial port\n",
    "    data = sr.Serial.readline().decode('utf-8').strip()\n",
    "    \n",
    "    # Get lidar points\n",
    "    x, y, z = save_coordinate(data)\n",
    "\n",
    "    coordinates = save_coordinate(x, y, z)\n",
    "    angle_df.loc[len(angle_df.index)] = coordinates\n",
    "    print_coordinate(coordinates)\n",
    "\n",
    "    # LIDAR logic\n",
    "    if pin_1:\n",
    "        pin_1 = False\n",
    "        pin_2 = True\n",
    "    else:\n",
    "        pin_1 = True\n",
    "        pin_2 = False"
   ]
  },
  {
   "cell_type": "code",
   "execution_count": null,
   "id": "352825c2-f6a9-42d6-a97a-b28b42ce2000",
   "metadata": {},
   "outputs": [],
   "source": [
    "coordinates_frame.to_csv(\"../../data/coordinates.csv\")"
   ]
  },
  {
   "cell_type": "markdown",
   "id": "5cc9da92-de00-44c2-970b-df4195c25acb",
   "metadata": {},
   "source": [
    "# Modeling 3D Point Cloud"
   ]
  },
  {
   "cell_type": "markdown",
   "id": "c6c1ff5f-6a73-4b07-8b80-1318a9ac6f31",
   "metadata": {},
   "source": [
    "We can model our 3D point cloud to test and see if our functions perform as wanted"
   ]
  },
  {
   "cell_type": "code",
   "execution_count": 280,
   "id": "ef560776-5694-4322-b947-10a6efd1c2a9",
   "metadata": {},
   "outputs": [],
   "source": [
    "def generate_mock_measurements(num):\n",
    "    measurement = []\n",
    "    for _ in range(num):\n",
    "        x = np.random.randint(0, 2000)\n",
    "        measurement.append(f'{x} cm')\n",
    "    return np.array(measurement)"
   ]
  },
  {
   "cell_type": "markdown",
   "id": "2860e6a5-49e8-4925-b4e3-a3fcec43a5d2",
   "metadata": {},
   "source": [
    "### Running the model\n",
    "We instantiate our model increment "
   ]
  },
  {
   "cell_type": "code",
   "execution_count": 315,
   "id": "f68df632-f032-46a6-92de-d188dfd7e67c",
   "metadata": {},
   "outputs": [],
   "source": [
    "def save_data(file_name: str, data: pd.DataFrame):\n",
    "    file_path = f'../../data/{file_name}.csv'\n",
    "    if os.path.exists(file_path):\n",
    "        os.remove(file_path)\n",
    "    data.to_csv(\"../../data/mock_coordinates.csv\")"
   ]
  },
  {
   "cell_type": "code",
   "execution_count": 318,
   "id": "2a602a3f-1963-4ced-a08b-8734bbc21317",
   "metadata": {},
   "outputs": [],
   "source": [
    "def simulate(yaws,\n",
    "             pitches,\n",
    "             increments):\n",
    "    fake_frame = pd.DataFrame(columns=['x', 'y', 'z', 'angle_1', 'angle_2'])\n",
    "    increment = np.divide(np.multiply(increments, np.pi), 180)\n",
    "    omega = 0\n",
    "    for i in range(yaws):\n",
    "        omega += increment\n",
    "        theta = 0\n",
    "        fake_cords = generate_mock_coordiantes(1000)\n",
    "        x_cords, y_cords, z_cords = fake_cords\n",
    "        for j in range(pitches):\n",
    "            fake_frame.loc[len(fake_frame)] = save_coordinate(x_cords[j], theta, omega)\n",
    "            theta += increment\n",
    "    save_data(\"mock_coordinates\", fake_frame)\n",
    "    print(f'Simulation complete ...')\n",
    "    "
   ]
  },
  {
   "cell_type": "markdown",
   "id": "94a643ef-c362-4ff8-88c7-da2fffc141ab",
   "metadata": {},
   "source": [
    "omega 0\n",
    "omega:\n",
    "1.8\n",
    "    theta \n",
    "        "
   ]
  }
 ],
 "metadata": {
  "kernelspec": {
   "display_name": "Python 3 (ipykernel)",
   "language": "python",
   "name": "python3"
  },
  "language_info": {
   "codemirror_mode": {
    "name": "ipython",
    "version": 3
   },
   "file_extension": ".py",
   "mimetype": "text/x-python",
   "name": "python",
   "nbconvert_exporter": "python",
   "pygments_lexer": "ipython3",
   "version": "3.11.7"
  }
 },
 "nbformat": 4,
 "nbformat_minor": 5
}
