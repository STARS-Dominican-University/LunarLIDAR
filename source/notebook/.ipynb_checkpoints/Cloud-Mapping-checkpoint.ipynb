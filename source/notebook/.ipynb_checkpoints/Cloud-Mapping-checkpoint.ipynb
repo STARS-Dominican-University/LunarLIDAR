{
 "cells": [
  {
   "cell_type": "markdown",
   "id": "aead074f-39f4-4537-a110-26e851d1e9b7",
   "metadata": {},
   "source": [
    "First we import libraries required that we'll be using"
   ]
  },
  {
   "cell_type": "code",
   "execution_count": 292,
   "id": "3eddf711-1815-4632-9932-3a0a8ee0e05b",
   "metadata": {},
   "outputs": [],
   "source": [
    "import matplotlib.pyplot as plt\n",
    "import plotly.graph_objs as go\n",
    "import numpy as np\n",
    "import pandas as pd\n",
    "import serial as sr\n",
    "import random\n",
    "import sys\n",
    "import os"
   ]
  },
  {
   "cell_type": "markdown",
   "id": "fd1f979b-c6bf-4c8e-b803-2653f41d8f57",
   "metadata": {},
   "source": [
    "We'll also import our variable files `computer` which stores all USB ports for our respective computers"
   ]
  },
  {
   "cell_type": "code",
   "execution_count": 191,
   "id": "2ab9d91e-9169-478e-bfbd-78a3e7a1205a",
   "metadata": {},
   "outputs": [],
   "source": [
    "sys.path.append(\"../python\")"
   ]
  },
  {
   "cell_type": "code",
   "execution_count": 192,
   "id": "ad7daf90-c033-4913-8a0a-74e44f2bffeb",
   "metadata": {},
   "outputs": [],
   "source": [
    "from computers import *"
   ]
  },
  {
   "cell_type": "markdown",
   "id": "8ae6a661-3bb3-4b56-aa84-c7d5acbfcbe9",
   "metadata": {},
   "source": [
    "We want to create a data frame for which we'll store our angle data"
   ]
  },
  {
   "cell_type": "code",
   "execution_count": 193,
   "id": "76a8f48a-8213-4698-9e1e-ebdfac63d985",
   "metadata": {},
   "outputs": [],
   "source": [
    "coordinates_frame = pd.DataFrame(columns=['x', 'y', 'z', 'angle_1', 'angle_2'])"
   ]
  },
  {
   "cell_type": "markdown",
   "id": "16be766d-a1b9-46a2-83f5-a2e9a7481763",
   "metadata": {},
   "source": [
    "We define our pins to be used on the `Arduino Mega 2560`. As a reminder, our pins are defined as\n",
    "\n",
    "```c\n",
    "LIDAR_POWER_ENABLE_PIN1 9\n",
    "LIDAR_POWER_ENABLE_PIN2 10\n",
    "```"
   ]
  },
  {
   "cell_type": "code",
   "execution_count": 194,
   "id": "61651f4b-a956-4c05-a2ce-5eac0ab93633",
   "metadata": {},
   "outputs": [],
   "source": [
    "pin_1 = True # Pin 9\n",
    "pin_2 = False # Pin 10"
   ]
  },
  {
   "cell_type": "markdown",
   "id": "9922c6eb-cdfa-4320-9338-accca6a0f665",
   "metadata": {},
   "source": [
    "Our loop iterations follow the following scheme:\n",
    "\n",
    "```c\n",
    "bool alternate = false;\n",
    "\n",
    "  if(alternate){\n",
    "    disableLidar(LIDAR_POWER_ENABLE_PIN1);\n",
    "    enableLidar(LIDAR_POWER_ENABLE_PIN2);\n",
    "    alternate = false;\n",
    "  }\n",
    "  else{\n",
    "    enableLidar(LIDAR_POWER_ENABLE_PIN1);\n",
    "    disableLidar(LIDAR_POWER_ENABLE_PIN2);\n",
    "    alternate = true;\n",
    "  }\n",
    "```\n",
    "\n",
    "Meaning in our first iteration:\n",
    "```\n",
    "LIDAR_POWER_ENABLE_PIN1 enabled\n",
    "LIDAR_POWER_ENABLE_PIN2 disabled\n",
    "```\n",
    "\n",
    "and our second iteration:\n",
    "```\n",
    "LIDAR_POWER_ENABLE_PIN1 disabled\n",
    "LIDAR_POWER_ENABLE_PIN2 enabled\n",
    "```\n",
    "\n",
    "and so forth..."
   ]
  },
  {
   "cell_type": "markdown",
   "id": "b00d5493-d89c-478d-92a2-1afb048e8111",
   "metadata": {},
   "source": [
    "We now define a function `get_x_coordinate` which retrieves our clean `x` distance"
   ]
  },
  {
   "cell_type": "code",
   "execution_count": 195,
   "id": "c416b485-3959-47ae-a118-7ba983cb7289",
   "metadata": {},
   "outputs": [],
   "source": [
    "def get_x_coordinate(data: str) -> np.int64:\n",
    "    x_coordinate = re.findall(r'\\b\\d+\\b', data)\n",
    "    if x_coordinate:\n",
    "        return np.int64(x_coordinate[0])\n",
    "    else:\n",
    "        return np.int64(-1)"
   ]
  },
  {
   "cell_type": "markdown",
   "id": "706ed896-b36f-4fde-94b5-aecfd50afaee",
   "metadata": {},
   "source": [
    "Deciphering the funciton, the function `get_x_coordinate` functions as:\n",
    "1. Find all values matching the regex expression. `\\b` find the beginning of a word character. `\\d` finds the beginning of a digit character and matches digits _0-9_. \\b is another word boundary anchor, ensuring digits are not part of a longer word.\n",
    "2. If a match is found, x_coordinate will return the match in a list. We only expect to find one element, thus we will return the `0`th index.\n",
    "3. If not found, we ensure this by returning -1"
   ]
  },
  {
   "cell_type": "markdown",
   "id": "7fc08c4e-9138-4920-85b8-e5141829c011",
   "metadata": {},
   "source": [
    "We define another function to process our coordinate data"
   ]
  },
  {
   "cell_type": "markdown",
   "id": "dbccfcc1-403c-4a9f-a850-6fcbada18ae3",
   "metadata": {},
   "source": [
    "We define a function to print coordinates"
   ]
  },
  {
   "cell_type": "code",
   "execution_count": 223,
   "id": "9733e006-db4d-4ebc-8efb-d6ebb3642a4d",
   "metadata": {},
   "outputs": [],
   "source": [
    "def print_coordinate(cords: np.array, theta, omega):\n",
    "    print(f'X: {cords[0]}, Y: {cords[1]}, Z: {cords[2]} | Θ: {theta}, ω: {omega}')"
   ]
  },
  {
   "cell_type": "markdown",
   "id": "f49c97f6-994f-491e-a7a7-faa15e31a66f",
   "metadata": {},
   "source": [
    "### Mathematics of point mapping"
   ]
  },
  {
   "cell_type": "markdown",
   "id": "057dc053-3d5f-49a0-b46a-9cef573faf11",
   "metadata": {},
   "source": [
    "To find our cooridantes, we require:\n",
    "\n",
    "$$\n",
    "(r, \\theta, \\omega) = (r\\sin{\\theta}, r\\sin{\\theta}\\sin{\\omega}, r\\cos{\\theta})\n",
    "$$\n",
    "\n",
    "Our `x` will be $r\\sin{\\theta}$. Our `y` will be $r\\sin{\\theta}\\sin{\\omega}$. Our `z` will be $r\\cos{\\theta}$.\n"
   ]
  },
  {
   "cell_type": "code",
   "execution_count": 244,
   "id": "72c8ba5d-f1c3-40fe-8546-847cc49e20ac",
   "metadata": {},
   "outputs": [],
   "source": [
    "def save_coordinate(x: int, theta, omega) -> np.array:\n",
    "    # Perform math to get accurate coordinates\n",
    "    x_cord = np.multiply(x, np.sin(theta))\n",
    "    y_cord = np.multiply(x_cord, np.sin(omega))\n",
    "    z_cord = np.multiply(x, np.cos(theta))\n",
    "    print_coordinate([x_cord, y_cord, z_cord], theta, omega)\n",
    "    return np.around(np.array([x, y, z, theta, omega]), 3)"
   ]
  },
  {
   "cell_type": "markdown",
   "id": "e312bfe9-c473-4e0f-b53b-aac9b8171491",
   "metadata": {},
   "source": [
    "We now create a serial connection"
   ]
  },
  {
   "cell_type": "code",
   "execution_count": null,
   "id": "5e4a6a59-1fa0-4497-9544-56ec7f38fbeb",
   "metadata": {
    "scrolled": true
   },
   "outputs": [],
   "source": [
    "ser = sr.Serial(port=PABLOS_COMPUTER, baudrate=9600)  # Adjust the serial port and baud rate\n",
    "print(f'Connection to port {ser} is established ...')"
   ]
  },
  {
   "cell_type": "markdown",
   "id": "eb5c7bc9-a7b7-4b7e-bc60-c63c112fa8ad",
   "metadata": {},
   "source": [
    "We now run an infinite loop until we decide to shut down the system"
   ]
  },
  {
   "cell_type": "code",
   "execution_count": null,
   "id": "02a7bdec-c26c-4604-8516-b33f5662e12a",
   "metadata": {},
   "outputs": [],
   "source": [
    "while True:\n",
    "    # Read data from the serial port\n",
    "    data = sr.Serial.readline().decode('utf-8').strip()\n",
    "    \n",
    "    # Get lidar points\n",
    "    x, y, z = save_coordinate(data)\n",
    "\n",
    "    coordinates = save_coordinate(x, y, z)\n",
    "    angle_df.loc[len(angle_df.index)] = coordinates\n",
    "    print_coordinate(coordinates)\n",
    "\n",
    "    # LIDAR logic\n",
    "    if pin_1:\n",
    "        pin_1 = False\n",
    "        pin_2 = True\n",
    "    else:\n",
    "        pin_1 = True\n",
    "        pin_2 = False"
   ]
  },
  {
   "cell_type": "markdown",
   "id": "e81a909c-c226-46ea-86ac-9539fef08502",
   "metadata": {},
   "source": [
    "We now save our coordinates into an excel file"
   ]
  },
  {
   "cell_type": "code",
   "execution_count": null,
   "id": "352825c2-f6a9-42d6-a97a-b28b42ce2000",
   "metadata": {},
   "outputs": [],
   "source": [
    "coordinates_frame.to_csv(\"../../data/coordinates.csv\")"
   ]
  },
  {
   "cell_type": "markdown",
   "id": "5cc9da92-de00-44c2-970b-df4195c25acb",
   "metadata": {},
   "source": [
    "# Modeling 3D Point Cloud"
   ]
  },
  {
   "cell_type": "markdown",
   "id": "c6c1ff5f-6a73-4b07-8b80-1318a9ac6f31",
   "metadata": {},
   "source": [
    "We can model our 3D point cloud to test and see if our functions perform as wanted"
   ]
  },
  {
   "cell_type": "code",
   "execution_count": 279,
   "id": "c88ee10a-b028-4878-ab1f-00a73f1b9be4",
   "metadata": {},
   "outputs": [],
   "source": [
    "def generate_mock_coordiantes(num):\n",
    "    x = np.around(np.random.uniform(low=0, high=1000, size=(num, )), 3)\n",
    "    y = np.around(np.random.uniform(low=0, high=1000, size=(num, )), 3)\n",
    "    z = np.around(np.random.uniform(low=0, high=1000, size=(num, )), 3)\n",
    "    return np.array([x, y, z])"
   ]
  },
  {
   "cell_type": "code",
   "execution_count": 280,
   "id": "ef560776-5694-4322-b947-10a6efd1c2a9",
   "metadata": {},
   "outputs": [],
   "source": [
    "def generate_mock_measurements(num):\n",
    "    measurement = []\n",
    "    for _ in range(num):\n",
    "        x = np.random.randint(0, 2000)\n",
    "        measurement.append(f'{x} cm')\n",
    "    return np.array(measurement)"
   ]
  },
  {
   "cell_type": "markdown",
   "id": "2860e6a5-49e8-4925-b4e3-a3fcec43a5d2",
   "metadata": {},
   "source": [
    "### Running the model\n",
    "We instantiate our model increment "
   ]
  },
  {
   "cell_type": "markdown",
   "id": "523f52ce-acd7-40f5-a892-c70563008b5a",
   "metadata": {},
   "source": [
    "As our device only has `2 DOF`, we will scan up-down (_pitch_) from $0 \\rightarrow \\frac{\\pi}{2}$. We will scan left-right (_yaw_) from $0 \\rightarrow \\pi$.\n",
    "<div style=\"text-align: center;\">\n",
    "    <img src=\"https://github.com/STARS-Dominican-University/LunarLIDAR/assets/70508631/e0758fe6-83e6-47c6-91bf-8493c5430f22\" alt=\"Image\" style=\"width:300px;\"/>\n",
    "</div>\n"
   ]
  },
  {
   "cell_type": "code",
   "execution_count": 315,
   "id": "f68df632-f032-46a6-92de-d188dfd7e67c",
   "metadata": {},
   "outputs": [],
   "source": [
    "def save_data(file_name: str, data: pd.DataFrame):\n",
    "    file_path = f'../../data/{file_name}.csv'\n",
    "    if os.path.exists(file_path):\n",
    "        os.remove(file_path)\n",
    "    data.to_csv(\"../../data/mock_coordinates.csv\")"
   ]
  },
  {
   "cell_type": "code",
   "execution_count": 318,
   "id": "2a602a3f-1963-4ced-a08b-8734bbc21317",
   "metadata": {},
   "outputs": [],
   "source": [
    "def simulate(yaws,\n",
    "             pitches,\n",
    "             increments):\n",
    "    fake_frame = pd.DataFrame(columns=['x', 'y', 'z', 'angle_1', 'angle_2'])\n",
    "    increment = np.divide(np.multiply(increments, np.pi), 180)\n",
    "    omega = 0\n",
    "    for i in range(yaws):\n",
    "        omega += increment\n",
    "        theta = 0\n",
    "        fake_cords = generate_mock_coordiantes(1000)\n",
    "        x_cords, y_cords, z_cords = fake_cords\n",
    "        for j in range(pitches):\n",
    "            fake_frame.loc[len(fake_frame)] = save_coordinate(x_cords[j], theta, omega)\n",
    "            theta += increment\n",
    "    save_data(\"mock_coordinates\", fake_frame)\n",
    "    print(f'Simulation complete ...')\n",
    "    "
   ]
  },
  {
   "cell_type": "code",
   "execution_count": null,
   "id": "f570e294-c1b1-482d-a361-494a173a0ab5",
   "metadata": {
    "scrolled": true
   },
   "outputs": [],
   "source": [
    "simulate(yaws=100, pitches=50, increments=1.8)"
   ]
  }
 ],
 "metadata": {
  "kernelspec": {
   "display_name": "Python 3 (ipykernel)",
   "language": "python",
   "name": "python3"
  },
  "language_info": {
   "codemirror_mode": {
    "name": "ipython",
    "version": 3
   },
   "file_extension": ".py",
   "mimetype": "text/x-python",
   "name": "python",
   "nbconvert_exporter": "python",
   "pygments_lexer": "ipython3",
   "version": "3.12.1"
  }
 },
 "nbformat": 4,
 "nbformat_minor": 5
}
